{
  "nbformat": 4,
  "nbformat_minor": 0,
  "metadata": {
    "colab": {
      "provenance": [],
      "gpuType": "T4"
    },
    "kernelspec": {
      "name": "python3",
      "display_name": "Python 3"
    },
    "language_info": {
      "name": "python"
    },
    "accelerator": "GPU"
  },
  "cells": [
    {
      "cell_type": "markdown",
      "source": [
        "Summary:\n",
        "* Encoding (no rff & Binary hypervectors)\n",
        "* Modeling (Binary hypervectors)\n",
        "\n",
        "===============================\n",
        "* Encoding (rff & vsa)\n",
        "* Modeling vsa (Cosine & Manhattan)"
      ],
      "metadata": {
        "id": "CtQw8XmO2urT"
      }
    },
    {
      "cell_type": "markdown",
      "source": [
        "### Encoding (No RFF)\n"
      ],
      "metadata": {
        "id": "Uivzxck1OSev"
      }
    },
    {
      "cell_type": "code",
      "execution_count": null,
      "metadata": {
        "id": "xG-HaMzCDHxc"
      },
      "outputs": [],
      "source": [
        "import numpy as np\n",
        "import torch\n",
        "from torchvision import datasets, transforms\n",
        "from sklearn.metrics import accuracy_score\n",
        "import matplotlib.pyplot as plt\n",
        "from tqdm import tqdm\n",
        "\n",
        "# Parameters\n",
        "dim = 10000   # Dimension of each hypervector\n",
        "num = 256     # Number of unique hypervectors (e.g., for each pixel intensity)\n",
        "device = torch.device(\"cuda\" if torch.cuda.is_available() else \"cpu\")  # Use GPU if available\n",
        "\n",
        "\n",
        "\n",
        "# Existing functions (from the github)\n",
        "def get_hdv(dim=10000, num=1):\n",
        "    assert num > 0, \"[Error] Only support nonzero size in get_hdv()\"\n",
        "    if num == 1:\n",
        "        return np.random.choice([-1, 1], size=dim)\n",
        "    else:\n",
        "        result = np.random.randint(2, size=(num, dim))\n",
        "        result = (result - 0.5) * 2\n",
        "        return result.astype('int')\n",
        "\n",
        "def build_item_mem(dim, num):\n",
        "    assert num > 1, \"No need of this function if only one vector in the item memory.\"\n",
        "    item_mem = get_hdv(dim=dim, num=num)\n",
        "    index = np.arange(dim // 2)\n",
        "    np.random.shuffle(index)\n",
        "    interval = int((dim / 2) / (num - 1))\n",
        "    pointer = 0\n",
        "    for i in range(1, num):\n",
        "        new_item = np.copy(item_mem[i - 1])\n",
        "        if i == num - 1:\n",
        "            new_item[index[pointer:]] *= -1\n",
        "        else:\n",
        "            new_item[index[pointer: pointer + interval]] *= -1\n",
        "        pointer += interval\n",
        "        item_mem[i] = new_item\n",
        "    item_mem = torch.from_numpy(item_mem)\n",
        "    return item_mem\n",
        "\n",
        "def encode_one_img(x, item_mem):\n",
        "    rv = item_mem[x[0]]\n",
        "    for i in range(1, x.shape[0]):\n",
        "        rv = torch.roll(rv, i)\n",
        "        rv = -rv * item_mem[x[i]]\n",
        "    return rv\n",
        "\n",
        "def encode_data_extract_labels(datast, dim, item_mem):\n",
        "    n = len(datast)\n",
        "    rv = torch.zeros((n, dim))\n",
        "    labels = torch.zeros(n).long()\n",
        "\n",
        "    # Wrap the loop with tqdm for a progress bar\n",
        "    for i in tqdm(range(n), desc=\"Encoding dataset\"):\n",
        "        rv[i] = encode_one_img((255 * datast[i][0].view(-1)).int(), item_mem)\n",
        "        labels[i] = datast[i][1]\n",
        "\n",
        "    return rv, labels\n"
      ]
    },
    {
      "cell_type": "markdown",
      "source": [
        "#### Encoding test"
      ],
      "metadata": {
        "id": "Wdfc02d2yjd2"
      }
    },
    {
      "cell_type": "code",
      "source": [
        "'''import numpy as np\n",
        "import torch\n",
        "from torchvision import datasets, transforms\n",
        "import matplotlib.pyplot as plt\n",
        "\n",
        "# Parameters\n",
        "dim = 10000  # Dimension of each hypervector\n",
        "num = 256    # Number of unique hypervectors (e.g., for each pixel intensity)\n",
        "\n",
        "# Load a single image from MNIST\n",
        "transform = transforms.Compose([transforms.ToTensor()])\n",
        "mnist_dataset = datasets.MNIST(root='./data', train=True, download=True, transform=transform)\n",
        "img, label = mnist_dataset[0]  # First image and label\n",
        "\n",
        "# Plot the original MNIST image\n",
        "plt.figure(figsize=(5, 5))\n",
        "plt.imshow(img.squeeze(), cmap='gray')\n",
        "plt.title(f\"Original MNIST Image (Label: {label})\")\n",
        "plt.axis('off')\n",
        "plt.show()\n",
        "\n",
        "# Encode the image as a test (optional, if you want to verify the encoding process)\n",
        "item_mem = build_item_mem(dim, num)\n",
        "encoded_hv = encode_one_img((255 * img.view(-1)).int(), item_mem)\n",
        "print(encoded_hv)\n"
      ],
      "metadata": {
        "colab": {
          "base_uri": "https://localhost:8080/",
          "height": 461
        },
        "id": "_REtFsJbUOef",
        "outputId": "f358fbe2-6935-4fc7-e970-e6d0dbba421f"
      },
      "execution_count": null,
      "outputs": [
        {
          "output_type": "display_data",
          "data": {
            "text/plain": [
              "<Figure size 500x500 with 1 Axes>"
            ],
            "image/png": "[encoded data removed]"
          },
          "metadata": {}
        },
        {
          "output_type": "stream",
          "name": "stdout",
          "text": [
            "tensor([-1, -1,  1,  ..., -1,  1, -1])\n"
          ]
        }
      ]
    },
    {
      "cell_type": "markdown",
      "source": [
        "### Modeling (Binary Hypervectors)"
      ],
      "metadata": {
        "id": "8QYAHZmrOWAM"
      }
    },
    {
      "cell_type": "code",
      "source": [
        "from torch.utils.data import Subset\n",
        "import random\n",
        "\n",
        "def create_class_centroids(train_hypervectors, train_labels, num_classes, dim):\n",
        "    class_centroids = torch.zeros((num_classes, dim))\n",
        "    for c in range(num_classes):\n",
        "        # Select all hypervectors for class c\n",
        "        class_hvs = train_hypervectors[train_labels == c]\n",
        "        print(\"shape class_hvs\",class_hvs.shape )\n",
        "        # Bundle by summing and binarizing (sign function)\n",
        "        class_centroid = class_hvs.sum(dim=0)\n",
        "        print(\"shape class_centroid\",class_centroid.shape )\n",
        "        class_centroids[c] = torch.sign(class_centroid)  # Binarize to {-1, 1}\n",
        "\n",
        "    return class_centroids\n",
        "\n",
        "# 2. Inference: Classify a Test Hypervector\n",
        "def classify(test_hv, class_centroids):\n",
        "    similarities = [torch.dot(test_hv, class_centroid) for class_centroid in class_centroids]\n",
        "    predicted_class = torch.argmax(torch.tensor(similarities)).item()\n",
        "    return predicted_class\n",
        "\n",
        "# 3. Full Inference for a Test Set\n",
        "def test_model(test_hypervectors, test_labels, class_centroids):\n",
        "    predictions = []\n",
        "    for test_hv in test_hypervectors:\n",
        "        pred_class = classify(test_hv, class_centroids)\n",
        "        predictions.append(pred_class)\n",
        "    accuracy = accuracy_score(test_labels, predictions)\n",
        "    print(f\"Test Accuracy: {accuracy * 100:.2f}%\")\n",
        "    return accuracy\n",
        "\n",
        "# Main code for training and testing the HDC model on encoded data\n",
        "def main():\n",
        "    # Define transformations: Convert images to tensor and normalize\n",
        "    transform = transforms.Compose([\n",
        "        transforms.ToTensor()\n",
        "    ])\n",
        "\n",
        "    # train_dataset = datasets.MNIST(root='./data', train=True, download=True, transform=transform)\n",
        "    # test_dataset = datasets.MNIST(root='./data', train=False, download=True, transform=transform)\n",
        "\n",
        "    # Load the full MNIST dataset\n",
        "    full_train_dataset = datasets.MNIST(root='./data', train=True, download=True, transform=transform)\n",
        "    full_test_dataset = datasets.MNIST(root='./data', train=False, download=True, transform=transform)\n",
        "\n",
        "    # Create a subset of the MNIST dataset\n",
        "    train_indices = random.sample(range(len(full_train_dataset)), small_train_size)\n",
        "    test_indices = random.sample(range(len(full_test_dataset)), small_test_size)\n",
        "    train_dataset = Subset(full_train_dataset, train_indices)\n",
        "    test_dataset = Subset(full_test_dataset, test_indices)\n",
        "\n",
        "    # Build item memory\n",
        "    item_mem = build_item_mem(dim=dim, num=num)\n",
        "\n",
        "    # Encode training and test data\n",
        "    train_hypervectors, train_labels = encode_data_extract_labels(train_dataset, dim, item_mem)\n",
        "    test_hypervectors, test_labels = encode_data_extract_labels(test_dataset, dim, item_mem)\n",
        "\n",
        "    # Create class centroids (learning step)\n",
        "    num_classes = 10  # Digits 0-9 in MNIST\n",
        "    class_centroids = create_class_centroids(train_hypervectors, train_labels, num_classes, dim)\n",
        "\n",
        "    # Test the model (inference step)\n",
        "    test_accuracy = test_model(test_hypervectors, test_labels, class_centroids)\n",
        "    print(f\"Final Test Accuracy: {test_accuracy * 100:.2f}%\")\n",
        "\n",
        "if __name__ == \"__main__\":\n",
        "    main()\n"
      ],
      "metadata": {
        "colab": {
          "base_uri": "https://localhost:8080/"
        },
        "id": "LBAxiFGoRSj3",
        "outputId": "7d8bb025-58c6-48ba-8789-b99917b1dbb7"
      },
      "execution_count": null,
      "outputs": [
        {
          "output_type": "stream",
          "name": "stdout",
          "text": [
            "Downloading http://yann.lecun.com/exdb/mnist/train-images-idx3-ubyte.gz\n",
            "Failed to download (trying next):\n",
            "HTTP Error 403: Forbidden\n",
            "\n",
            "Downloading https://ossci-datasets.s3.amazonaws.com/mnist/train-images-idx3-ubyte.gz\n",
            "Downloading https://ossci-datasets.s3.amazonaws.com/mnist/train-images-idx3-ubyte.gz to ./data/MNIST/raw/train-images-idx3-ubyte.gz\n"
          ]
        },
        {
          "output_type": "stream",
          "name": "stderr",
          "text": [
            "100%|██████████| 9.91M/9.91M [00:00<00:00, 55.2MB/s]\n"
          ]
        },
        {
          "output_type": "stream",
          "name": "stdout",
          "text": [
            "Extracting ./data/MNIST/raw/train-images-idx3-ubyte.gz to ./data/MNIST/raw\n",
            "\n",
            "Downloading http://yann.lecun.com/exdb/mnist/train-labels-idx1-ubyte.gz\n",
            "Failed to download (trying next):\n",
            "HTTP Error 403: Forbidden\n",
            "\n",
            "Downloading https://ossci-datasets.s3.amazonaws.com/mnist/train-labels-idx1-ubyte.gz\n",
            "Downloading https://ossci-datasets.s3.amazonaws.com/mnist/train-labels-idx1-ubyte.gz to ./data/MNIST/raw/train-labels-idx1-ubyte.gz\n"
          ]
        },
        {
          "output_type": "stream",
          "name": "stderr",
          "text": [
            "100%|██████████| 28.9k/28.9k [00:00<00:00, 1.78MB/s]"
          ]
        },
        {
          "output_type": "stream",
          "name": "stdout",
          "text": [
            "Extracting ./data/MNIST/raw/train-labels-idx1-ubyte.gz to ./data/MNIST/raw\n",
            "\n",
            "Downloading http://yann.lecun.com/exdb/mnist/t10k-images-idx3-ubyte.gz\n"
          ]
        },
        {
          "output_type": "stream",
          "name": "stderr",
          "text": [
            "\n"
          ]
        },
        {
          "output_type": "stream",
          "name": "stdout",
          "text": [
            "Failed to download (trying next):\n",
            "HTTP Error 403: Forbidden\n",
            "\n",
            "Downloading https://ossci-datasets.s3.amazonaws.com/mnist/t10k-images-idx3-ubyte.gz\n",
            "Downloading https://ossci-datasets.s3.amazonaws.com/mnist/t10k-images-idx3-ubyte.gz to ./data/MNIST/raw/t10k-images-idx3-ubyte.gz\n"
          ]
        },
        {
          "output_type": "stream",
          "name": "stderr",
          "text": [
            "100%|██████████| 1.65M/1.65M [00:00<00:00, 14.2MB/s]\n"
          ]
        },
        {
          "output_type": "stream",
          "name": "stdout",
          "text": [
            "Extracting ./data/MNIST/raw/t10k-images-idx3-ubyte.gz to ./data/MNIST/raw\n",
            "\n",
            "Downloading http://yann.lecun.com/exdb/mnist/t10k-labels-idx1-ubyte.gz\n",
            "Failed to download (trying next):\n",
            "HTTP Error 403: Forbidden\n",
            "\n",
            "Downloading https://ossci-datasets.s3.amazonaws.com/mnist/t10k-labels-idx1-ubyte.gz\n",
            "Downloading https://ossci-datasets.s3.amazonaws.com/mnist/t10k-labels-idx1-ubyte.gz to ./data/MNIST/raw/t10k-labels-idx1-ubyte.gz\n"
          ]
        },
        {
          "output_type": "stream",
          "name": "stderr",
          "text": [
            "100%|██████████| 4.54k/4.54k [00:00<00:00, 1.44MB/s]\n"
          ]
        },
        {
          "output_type": "stream",
          "name": "stdout",
          "text": [
            "Extracting ./data/MNIST/raw/t10k-labels-idx1-ubyte.gz to ./data/MNIST/raw\n",
            "\n"
          ]
        },
        {
          "output_type": "stream",
          "name": "stderr",
          "text": [
            "Encoding dataset: 100%|██████████| 5000/5000 [03:01<00:00, 27.54it/s]\n",
            "Encoding dataset: 100%|██████████| 1000/1000 [00:36<00:00, 27.48it/s]\n"
          ]
        },
        {
          "output_type": "stream",
          "name": "stdout",
          "text": [
            "shape class_hvs torch.Size([506, 10000])\n",
            "shape class_centroid torch.Size([10000])\n",
            "shape class_hvs torch.Size([558, 10000])\n",
            "shape class_centroid torch.Size([10000])\n",
            "shape class_hvs torch.Size([486, 10000])\n",
            "shape class_centroid torch.Size([10000])\n",
            "shape class_hvs torch.Size([518, 10000])\n",
            "shape class_centroid torch.Size([10000])\n",
            "shape class_hvs torch.Size([522, 10000])\n",
            "shape class_centroid torch.Size([10000])\n",
            "shape class_hvs torch.Size([420, 10000])\n",
            "shape class_centroid torch.Size([10000])\n",
            "shape class_hvs torch.Size([489, 10000])\n",
            "shape class_centroid torch.Size([10000])\n",
            "shape class_hvs torch.Size([513, 10000])\n",
            "shape class_centroid torch.Size([10000])\n",
            "shape class_hvs torch.Size([518, 10000])\n",
            "shape class_centroid torch.Size([10000])\n",
            "shape class_hvs torch.Size([470, 10000])\n",
            "shape class_centroid torch.Size([10000])\n",
            "Test Accuracy: 11.80%\n",
            "Final Test Accuracy: 11.80%\n"
          ]
        }
      ]
    },
    {
      "cell_type": "markdown",
      "source": [
        "### RFF Encoding"
      ],
      "metadata": {
        "id": "vgHwSuLtR7qS"
      }
    },
    {
      "cell_type": "code",
      "source": [
        "import numpy as np\n",
        "import torch\n",
        "import scipy.stats\n",
        "import time\n",
        "\n",
        "# Parameters (previously set in __init__)\n",
        "input_dim = 10000\n",
        "gamma = 0.3\n",
        "num = 256\n",
        "gorder = 2      # we try [2,8,16,32]\n",
        "output_dim = 10000\n",
        "device = torch.device(\"cuda:0\" if torch.cuda.is_available() else \"cpu\")\n",
        "\n",
        "# Function to map points in cyclic group representation\n",
        "def pts_map(x, r=1.0):\n",
        "    theta = 2.0 * np.pi / (1.0 * gorder) * x\n",
        "    pts = r * torch.stack([torch.cos(theta), torch.sin(theta)], -1)\n",
        "    return pts\n",
        "\n",
        "# Group Random Fourier Features\n",
        "def group_rff(x, sigma):\n",
        "    intervals = sigma * torch.tensor(\n",
        "        [scipy.stats.norm.ppf(i * 1.0 / gorder) for i in range(1, gorder)]\n",
        "    ).float()\n",
        "    print('The threshold to discretize Fourier features to group elements:', intervals)\n",
        "\n",
        "    group_index = torch.zeros_like(x)\n",
        "    group_index[x <= intervals[0]] = 0\n",
        "    group_index[x > intervals[-1]] = gorder - 1\n",
        "    if gorder > 2:\n",
        "        for i in range(1, gorder - 1):\n",
        "            group_index[(x > intervals[i - 1]) & (x <= intervals[i])] = i\n",
        "    return group_index\n",
        "\n",
        "# Build item memory with random Fourier features\n",
        "def build_item_mem():\n",
        "    correction_factor = 1 / 1.4\n",
        "    x = np.linspace(0, 255, num=256)\n",
        "    Cov = np.array([\n",
        "        np.exp(-correction_factor * gamma ** 2 * ((x - y) / 255.0) ** 2 / 2)\n",
        "        for y in range(256)\n",
        "    ])\n",
        "    k = Cov.shape[0]\n",
        "    assert Cov.shape[1] == k, \"Cov is not a square matrix.\"\n",
        "\n",
        "    L = np.sin(Cov * np.pi / 2.0)\n",
        "    eigen_values, eigen_vectors = np.linalg.eigh(L)\n",
        "    R = eigen_vectors @ np.diag(np.maximum(0, eigen_values) ** 0.5) @ eigen_vectors.T\n",
        "    item_mem = torch.from_numpy(np.random.randn(output_dim, k) @ R).float()\n",
        "    item_mem = group_rff(item_mem, np.sqrt((R ** 2).sum(0).max())).T\n",
        "    return item_mem.to(device)\n",
        "\n",
        "# Encode a single image\n",
        "def encode_one_img(x, item_mem):\n",
        "    x = x.to(device).long()\n",
        "    bs, channels, num_pixels = x.size()\n",
        "    rv = item_mem[x.flatten()].view(bs, channels, num_pixels, -1).transpose(0, 2)\n",
        "    for i in range(num_pixels):\n",
        "        rv[i] = torch.roll(rv[i], shifts=783 - i, dims=-1)\n",
        "    rv = torch.sum(rv, dim=0)\n",
        "    if gorder == 2:\n",
        "        rv = rv % 2\n",
        "    return rv.transpose(0, 1).reshape((bs, -1))\n",
        "\n",
        "# Encode data and extract labels\n",
        "def encode_data_extract_labels(datast, item_mem):\n",
        "    channels = datast[0][0].size(0)\n",
        "    n = len(datast)\n",
        "    rv = torch.zeros((n, channels * output_dim))\n",
        "    labels = torch.zeros(n).long()\n",
        "    print('Start encoding data')\n",
        "    start_time = time.time()\n",
        "    batch_size = 128\n",
        "    data_loader = torch.utils.data.DataLoader(datast, batch_size=batch_size, shuffle=False)\n",
        "\n",
        "    for i, batch_img in enumerate(data_loader):\n",
        "        num_imgs = batch_img[0].size(0)\n",
        "        rv[i * batch_size: i * batch_size + num_imgs] = encode_one_img(\n",
        "            (255 * batch_img[0].view(num_imgs, channels, -1)).int(), item_mem\n",
        "        )\n",
        "        labels[i * batch_size: i * batch_size + num_imgs] = batch_img[1]\n",
        "\n",
        "        if i % 100 == 99:\n",
        "            print(f\"{(i + 1) * batch_size} images encoded. Total time elapsed: {time.time() - start_time}\")\n",
        "\n",
        "    print('Finish encoding data')\n",
        "    return rv, labels\n",
        "\n",
        "# Group bind function\n",
        "def group_bind(lst):\n",
        "    results = torch.sum(lst, dim=0)\n",
        "    return results\n",
        "\n",
        "# Group bundle function\n",
        "def group_bundle(lst):\n",
        "    intervals = torch.tensor([2 * np.pi / gorder * i for i in range(gorder)]) + np.pi / gorder\n",
        "    pts = torch.sum(pts_map(lst), dim=0)\n",
        "    raw_angles = 2 * np.pi + torch.arctan(pts[:, 1] / pts[:, 0]) - np.pi * (pts[:, 0] < 0).float()\n",
        "    angles = torch.fmod(raw_angles, 2 * np.pi)\n",
        "    return torch.floor(angles / (2.0 * np.pi) * gorder + 1 / 2)\n",
        "\n",
        "# Similarity function\n",
        "def cosine_similarity(x, y):\n",
        "    return torch.sum(torch.sum(pts_map(x) * pts_map(y), dim=-1), dim=-1) * (1.0 / x.size(-1))\n"
      ],
      "metadata": {
        "id": "JCrHQ4HiThV8"
      },
      "execution_count": null,
      "outputs": []
    },
    {
      "cell_type": "markdown",
      "source": [
        "### Modeling (Cosine / Manhattan )\n"
      ],
      "metadata": {
        "id": "YB69d0bNzaps"
      }
    },
    {
      "cell_type": "code",
      "source": [
        "import numpy as np\n",
        "import torch\n",
        "from torchvision import datasets, transforms\n",
        "from sklearn.metrics import accuracy_score\n",
        "from torch.utils.data import Subset\n",
        "import random\n",
        "import time\n",
        "\n",
        "def modular_manhattan_distance(u, v):\n",
        "    # Compute the element-wise modular distance\n",
        "    delta = torch.min((u - v) % gorder, (v - u) % gorder)\n",
        "    distance = 4*(delta.sum())/(input_dim*gorder)\n",
        "    return 1 - distance\n",
        "\n",
        "# Create class centroids for each digit (0-9)\n",
        "def create_class_centroids(train_hypervectors, train_labels, num_classes, dim):\n",
        "    class_centroids = torch.zeros((num_classes, dim), device=device)\n",
        "    for c in range(num_classes):\n",
        "        class_hvs = train_hypervectors[train_labels == c]\n",
        "        class_centroids[c] = group_bundle(class_hvs)\n",
        "    return class_centroids\n",
        "\n",
        "# Classify a single test hypervector\n",
        "def classify(test_hv, class_centroids):\n",
        "    # Move test_hv to the same device as class_centroids\n",
        "    test_hv = test_hv.to(class_centroids.device)\n",
        "\n",
        "    similarities = [cosine_similarity(test_hv, class_centroid) for class_centroid in class_centroids]\n",
        "    #similarities = [modular_manhattan_distance(test_hv, class_centroid) for class_centroid in class_centroids]\n",
        "\n",
        "    predicted_class = torch.argmax(torch.tensor(similarities)).item()\n",
        "    return predicted_class\n",
        "\n",
        "# Test the model on a test set\n",
        "def test_model(test_hypervectors, test_labels, class_centroids):\n",
        "    test_hypervectors = test_hypervectors.to(class_centroids.device)\n",
        "    predictions = []\n",
        "    for test_hv in test_hypervectors:\n",
        "        pred_class = classify(test_hv, class_centroids)\n",
        "        predictions.append(pred_class)\n",
        "    accuracy = accuracy_score(test_labels.cpu(), predictions)\n",
        "    print(f\"Test Accuracy: {accuracy * 100:.2f}%\")\n",
        "    return accuracy\n",
        "\n",
        "# Main function\n",
        "def main():\n",
        "    transform = transforms.Compose([transforms.ToTensor()])\n",
        "    train_dataset = datasets.MNIST(root='./data', train=True, download=True, transform=transform)\n",
        "    test_dataset = datasets.MNIST(root='./data', train=False, download=True, transform=transform)\n",
        "\n",
        "    # >> for testing smaller datasets:\n",
        "    # full_train_dataset = datasets.MNIST(root='./data', train=True, download=True, transform=transform)\n",
        "    # full_test_dataset = datasets.MNIST(root='./data', train=False, download=True, transform=transform)\n",
        "    # small_train_size = 50000\n",
        "    # small_test_size = 10000\n",
        "    # train_indices = random.sample(range(len(full_train_dataset)), small_train_size)\n",
        "    # test_indices = random.sample(range(len(full_test_dataset)), small_test_size)\n",
        "    # train_dataset = Subset(full_train_dataset, train_indices)\n",
        "    # test_dataset = Subset(full_test_dataset, test_indices)\n",
        "\n",
        "    # Build item memory with RFF\n",
        "    item_mem = build_item_mem()\n",
        "\n",
        "    # Encode training and test data\n",
        "    train_hypervectors, train_labels = encode_data_extract_labels(train_dataset, item_mem)\n",
        "    test_hypervectors, test_labels = encode_data_extract_labels(test_dataset, item_mem)\n",
        "\n",
        "    # Create class centroids\n",
        "    num_classes = 10  # Digits 0-9 in MNIST\n",
        "    class_centroids = create_class_centroids(train_hypervectors, train_labels, num_classes, output_dim)\n",
        "\n",
        "    # Test the model\n",
        "    test_accuracy = test_model(test_hypervectors, test_labels, class_centroids)\n",
        "    print(f\"Final Test Accuracy: {test_accuracy * 100:.2f}%\")\n",
        "\n",
        "if __name__ == \"__main__\":\n",
        "    main()"
      ],
      "metadata": {
        "colab": {
          "base_uri": "https://localhost:8080/"
        },
        "id": "BJz4xYAufabu",
        "outputId": "f48ab0d2-c0e2-4dec-a255-76da0b3a5d35"
      },
      "execution_count": null,
      "outputs": [
        {
          "output_type": "stream",
          "name": "stdout",
          "text": [
            "The threshold to discretize Fourier features to group elements: tensor([0.])\n",
            "Start encoding data\n",
            "12800 images encoded. Total time elapsed: 22.973255395889282\n",
            "25600 images encoded. Total time elapsed: 46.09766507148743\n",
            "38400 images encoded. Total time elapsed: 68.95632100105286\n",
            "51200 images encoded. Total time elapsed: 91.67295503616333\n",
            "Finish encoding data\n",
            "Start encoding data\n",
            "Finish encoding data\n",
            "Test Accuracy: 84.18%\n",
            "Final Test Accuracy: 84.18%\n"
          ]
        }
      ]
    },
    {
      "cell_type": "markdown",
      "source": [
        "#### Other datasets:\n",
        "*Usihar and Isolet datasets are downloaded from the github repo of the paper"
      ],
      "metadata": {
        "id": "SBkcK9OU1Geb"
      }
    },
    {
      "cell_type": "code",
      "source": [
        "import torch\n",
        "import numpy as np\n",
        "import pickle\n",
        "\n",
        "# Function to load datasets\n",
        "def load_dataset(dataset_name):\n",
        "    transform = transforms.Compose([transforms.ToTensor()])\n",
        "    if dataset_name == 'mnist':\n",
        "        train_dataset = datasets.MNIST(root='./data', train=True, download=True, transform=transform)\n",
        "        test_dataset = datasets.MNIST(root='./data', train=False, download=True, transform=transform)\n",
        "        num_classes = 10\n",
        "    elif dataset_name == 'fashion_mnist':\n",
        "        train_dataset = datasets.FashionMNIST(root='./data', train=True, download=True, transform=transform)\n",
        "        test_dataset = datasets.FashionMNIST(root='./data', train=False, download=True, transform=transform)\n",
        "        num_classes = 10\n",
        "    elif dataset_name == 'ucihar':\n",
        "        # Load UCI-HAR dataset from files\n",
        "        x_train_path = './data/ucihar/train/x_train.txt'\n",
        "        y_train_path = './data/ucihar/train/y_train.txt'\n",
        "        x_test_path = './data/ucihar/test/x_test.txt'\n",
        "        y_test_path = './data/ucihar/test/y_test.txt'\n",
        "\n",
        "        def load_data(feature_file, label_file):\n",
        "            with open(feature_file, 'r') as f:\n",
        "                data = np.array([list(map(float, line.strip().split())) for line in f])\n",
        "            with open(label_file, 'r') as f:\n",
        "                labels = np.array([int(line.strip()) - 1 for line in f])  # Adjust labels to start from 0\n",
        "            return torch.tensor(data, dtype=torch.float32), torch.tensor(labels, dtype=torch.long)\n",
        "\n",
        "        x_train, y_train = load_data(x_train_path, y_train_path)\n",
        "        x_test, y_test = load_data(x_test_path, y_test_path)\n",
        "        train_dataset = Subset([(x_train[i], y_train[i]) for i in range(len(y_train))], list(range(len(y_train))))\n",
        "        test_dataset = Subset([(x_test[i], y_test[i]) for i in range(len(y_test))], list(range(len(y_test))))\n",
        "        num_classes = 6\n",
        "    elif dataset_name == 'isolet':\n",
        "        # Load ISOLET dataset from a pickle file\n",
        "        with open('./data/isolet/isolet.pkl', 'rb') as f:\n",
        "            train_data, train_labels, test_data, test_labels = pickle.load(f)\n",
        "        x_train = torch.tensor(train_data, dtype=torch.float32)\n",
        "        y_train = torch.tensor(train_labels, dtype=torch.long) - 1  # Adjust labels to start from 0\n",
        "        x_test = torch.tensor(test_data, dtype=torch.float32)\n",
        "        y_test = torch.tensor(test_labels, dtype=torch.long) - 1  # Adjust labels to start from 0\n",
        "        train_dataset = Subset([(x_train[i], y_train[i]) for i in range(len(y_train))], list(range(len(y_train))))\n",
        "        test_dataset = Subset([(x_test[i], y_test[i]) for i in range(len(y_test))], list(range(len(y_test))))\n",
        "        num_classes = 26\n",
        "    else:\n",
        "        raise ValueError(\"Dataset not supported.\")\n",
        "\n",
        "    return train_dataset, test_dataset, num_classes\n",
        "\n",
        "# Define HDDataset and quantize if not already defined\n",
        "class HDDataset(torch.utils.data.Dataset):\n",
        "    def __init__(self, data, labels):\n",
        "        self.data = data\n",
        "        self.labels = labels\n",
        "\n",
        "    def __len__(self):\n",
        "        return self.data.size(0)\n",
        "\n",
        "    def __getitem__(self, idx):\n",
        "        return self.data[idx], self.labels[idx]\n",
        "\n",
        "def quantize(data, precision=8):\n",
        "    # assume min and max of the data is -1 and 1\n",
        "    scaling_factor = 2 ** (precision - 1) - 1\n",
        "    data = np.round(data * scaling_factor)\n",
        "    # shift the quantized data to positive and rescale to [0, 1.0]\n",
        "    return (data + scaling_factor) / 255.0\n",
        "\n",
        "# Define the main function with modifications for the UCIHAR and ISOLET datasets\n",
        "def main():\n",
        "    gorder = 16  # we try [2,8,16,32]\n",
        "    print(f\"Running with gorder = {gorder}\\n\")\n",
        "\n",
        "    for dataset_name in ['mnist','fashion_mnist','isolet','ucihar']:  # Only ISOLET and UCIHAR for now\n",
        "        print(f\"Processing dataset: {dataset_name} with gorder = {gorder}\")\n",
        "\n",
        "        # Load the dataset\n",
        "        train_dataset, test_dataset, num_classes = load_dataset(dataset_name)\n",
        "\n",
        "        # Build item memory with RFF (Random Fourier Features)\n",
        "        item_mem = build_item_mem()  # Assume build_item_mem is defined elsewhere\n",
        "\n",
        "        # Encode training and test data\n",
        "        train_hypervectors, train_labels = encode_data_extract_labels(train_dataset, item_mem)  # Assume function exists\n",
        "        test_hypervectors, test_labels = encode_data_extract_labels(test_dataset, item_mem)\n",
        "\n",
        "        # Create class centroids\n",
        "        class_centroids = create_class_centroids(train_hypervectors, train_labels, num_classes, output_dim)\n",
        "\n",
        "        # Test the model\n",
        "        test_accuracy = test_model(test_hypervectors, test_labels, class_centroids, gorder)\n",
        "        print(f\"Final Test Accuracy on {dataset_name} with gorder = {gorder}: {test_accuracy * 100:.2f}%\\n\")\n",
        "\n",
        "if __name__ == \"__main__\":\n",
        "    main()\n",
        "\n"
      ],
      "metadata": {
        "id": "SV9xE5-s1LSp"
      },
      "execution_count": null,
      "outputs": []
    },
    {
      "cell_type": "markdown",
      "source": [
        "### Results\n",
        "\n",
        "\n",
        "\n",
        "*we mean by HDC binary hypervectors\n",
        "\n",
        "*accuracies are in %"
      ],
      "metadata": {
        "id": "yryUtdoO2VzR"
      }
    },
    {
      "cell_type": "markdown",
      "source": [
        "![image.png](data:image/png;base64,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)"
      ],
      "metadata": {
        "id": "SUq74jzm08Py"
      }
    }
  ]
}